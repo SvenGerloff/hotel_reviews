{
 "cells": [
  {
   "cell_type": "markdown",
   "source": [
    "# Imports "
   ],
   "metadata": {
    "collapsed": false
   },
   "id": "c415ec8e0fbecf39"
  },
  {
   "cell_type": "code",
   "outputs": [],
   "source": [
    "import pandas as pd\n",
    "from nltk.corpus import stopwords\n",
    "from nltk.tokenize import word_tokenize\n",
    "import nltk\n",
    "import re"
   ],
   "metadata": {
    "collapsed": false,
    "ExecuteTime": {
     "end_time": "2024-06-05T16:40:22.419660Z",
     "start_time": "2024-06-05T16:40:22.413124Z"
    }
   },
   "id": "647c8689cc319d21",
   "execution_count": 161
  },
  {
   "cell_type": "markdown",
   "source": [
    "# Initialise stop words "
   ],
   "metadata": {
    "collapsed": false
   },
   "id": "d4ac9bdbcf93737d"
  },
  {
   "cell_type": "code",
   "outputs": [
    {
     "name": "stderr",
     "output_type": "stream",
     "text": [
      "[nltk_data] Downloading package stopwords to\n",
      "[nltk_data]     /Users/svengerloff/nltk_data...\n",
      "[nltk_data]   Package stopwords is already up-to-date!\n",
      "[nltk_data] Downloading package punkt to\n",
      "[nltk_data]     /Users/svengerloff/nltk_data...\n",
      "[nltk_data]   Package punkt is already up-to-date!\n"
     ]
    },
    {
     "data": {
      "text/plain": "True"
     },
     "execution_count": 162,
     "metadata": {},
     "output_type": "execute_result"
    }
   ],
   "source": [
    "nltk.download('stopwords')\n",
    "nltk.download('punkt')"
   ],
   "metadata": {
    "collapsed": false,
    "ExecuteTime": {
     "end_time": "2024-06-05T16:40:22.427416Z",
     "start_time": "2024-06-05T16:40:22.422054Z"
    }
   },
   "id": "3de1afa61265956d",
   "execution_count": 162
  },
  {
   "cell_type": "markdown",
   "source": [
    "# Load data \n",
    "Data source: https://www.kaggle.com/datasets/jiashenliu/515k-hotel-reviews-data-in-europe [05.06.2024]\n",
    "Delete rows with missing lat and lng\n",
    "Select hotel from Vienna only "
   ],
   "metadata": {
    "collapsed": false
   },
   "id": "f9369b7da3f92ff0"
  },
  {
   "cell_type": "code",
   "outputs": [],
   "source": [
    "df = pd.read_csv('./data/hotels.csv')\n",
    "df = df.dropna(subset=['lat', 'lng'])\n",
    "df = df[df['Hotel_Address'].str.contains('Vienna', case=False, na=False)]"
   ],
   "metadata": {
    "collapsed": false,
    "ExecuteTime": {
     "end_time": "2024-06-05T16:40:25.610896Z",
     "start_time": "2024-06-05T16:40:22.428930Z"
    }
   },
   "id": "4cfa2b4191438109",
   "execution_count": 163
  },
  {
   "cell_type": "markdown",
   "source": [
    "# Define functions for data preparation"
   ],
   "metadata": {
    "collapsed": false
   },
   "id": "cf4b85223f848165"
  },
  {
   "cell_type": "code",
   "outputs": [],
   "source": [
    "# Get postal code \n",
    "def extract_postal_code(address):\n",
    "    match = re.search(r'\\b\\d{4}\\b', address)\n",
    "    return match.group(0) if match else None"
   ],
   "metadata": {
    "collapsed": false,
    "ExecuteTime": {
     "end_time": "2024-06-05T16:40:25.615207Z",
     "start_time": "2024-06-05T16:40:25.612562Z"
    }
   },
   "id": "94e94510efdad86",
   "execution_count": 164
  },
  {
   "cell_type": "code",
   "outputs": [],
   "source": [
    "# Transform postal code to district number\n",
    "def postal_code_to_district(postal_code):\n",
    "    if postal_code is not None:\n",
    "        return int(postal_code[1:3])\n",
    "    return None"
   ],
   "metadata": {
    "collapsed": false,
    "ExecuteTime": {
     "end_time": "2024-06-05T16:40:25.618836Z",
     "start_time": "2024-06-05T16:40:25.616224Z"
    }
   },
   "id": "63f62f0aede8acf9",
   "execution_count": 165
  },
  {
   "cell_type": "code",
   "outputs": [],
   "source": [
    "# Use tokenizer and remove stopwords\n",
    "stop_words_english = set(stopwords.words('english'))\n",
    "stop_words_german = set(stopwords.words('german'))\n",
    "def remove_stopwords(text):\n",
    "    word_tokens = word_tokenize(text)\n",
    "    filtered_text = [word for word in word_tokens if word.lower() not in stop_words_english and word.lower() not in stop_words_german]\n",
    "    return ' '.join(filtered_text)"
   ],
   "metadata": {
    "collapsed": false,
    "ExecuteTime": {
     "end_time": "2024-06-05T16:40:25.625577Z",
     "start_time": "2024-06-05T16:40:25.620747Z"
    }
   },
   "id": "373ac9dc2b18f51",
   "execution_count": 166
  },
  {
   "cell_type": "markdown",
   "source": [
    "# Apply methods of data preparation "
   ],
   "metadata": {
    "collapsed": false
   },
   "id": "6ceef92431557b19"
  },
  {
   "cell_type": "code",
   "outputs": [],
   "source": [
    "df['Bezirk'] = df['Hotel_Address'].apply(extract_postal_code)\n",
    "df['District'] = df['Bezirk'].apply(postal_code_to_district)"
   ],
   "metadata": {
    "collapsed": false,
    "ExecuteTime": {
     "end_time": "2024-06-05T16:40:25.708959Z",
     "start_time": "2024-06-05T16:40:25.626516Z"
    }
   },
   "id": "ccc9c3bd8a99d5c4",
   "execution_count": 167
  },
  {
   "cell_type": "code",
   "outputs": [],
   "source": [
    "grouped_df = df.groupby('Hotel_Name').agg({\n",
    "    'lat': 'first',\n",
    "    'lng': 'first',\n",
    "    'Average_Score': 'mean',\n",
    "    'Total_Number_of_Reviews': 'max',\n",
    "    'Positive_Review': ' '.join, \n",
    "    'Negative_Review': ' '.join,\n",
    "    'District': 'first'\n",
    "}).reset_index()"
   ],
   "metadata": {
    "collapsed": false,
    "ExecuteTime": {
     "end_time": "2024-06-05T16:40:25.761443Z",
     "start_time": "2024-06-05T16:40:25.710083Z"
    }
   },
   "id": "f293352fd8139ddf",
   "execution_count": 168
  },
  {
   "cell_type": "code",
   "outputs": [],
   "source": [
    "grouped_df['Positive_Review'] = grouped_df['Positive_Review'].apply(remove_stopwords)\n",
    "grouped_df['Negative_Review'] = grouped_df['Negative_Review'].apply(remove_stopwords)"
   ],
   "metadata": {
    "collapsed": false,
    "ExecuteTime": {
     "end_time": "2024-06-05T16:40:29.168699Z",
     "start_time": "2024-06-05T16:40:25.762415Z"
    }
   },
   "id": "97575b6942d30689",
   "execution_count": 169
  },
  {
   "cell_type": "code",
   "outputs": [
    {
     "data": {
      "text/plain": "                           Hotel_Name        lat        lng  Average_Score  \\\n0  25hours Hotel beim MuseumsQuartier  48.206474  16.354630            8.8   \n1       ARCOTEL Kaiserwasser Superior  48.231915  16.417026            8.6   \n2                   ARCOTEL Wimberger  48.200600  16.338633            8.2   \n3                 AZIMUT Hotel Vienna  48.183479  16.376276            8.2   \n4                 Alma Boutique Hotel  48.211249  16.377652            8.7   \n\n   Total_Number_of_Reviews                                    Positive_Review  \\\n0                     4324  Cool vintage style middle museum quarter metro...   \n1                     1257  Positive Great location VIC meetings Amazing v...   \n2                     1886  Close public transportation gentleman front de...   \n3                     1060  comfortable room clean quiet friendly polite s...   \n4                      730  could check couple hours earlier exhausting fl...   \n\n                                     Negative_Review  District  \n0  Breakfast included buffet really expensive Bre...         7  \n1  booked suites room double room asked connected...        22  \n2  Negative Stuff canteen prepared tourist crowd ...         7  \n3  Everything excellent Definitely security staye...        10  \n4  Negative Bread croissants old Coffee mediocre ...         1  ",
      "text/html": "<div>\n<style scoped>\n    .dataframe tbody tr th:only-of-type {\n        vertical-align: middle;\n    }\n\n    .dataframe tbody tr th {\n        vertical-align: top;\n    }\n\n    .dataframe thead th {\n        text-align: right;\n    }\n</style>\n<table border=\"1\" class=\"dataframe\">\n  <thead>\n    <tr style=\"text-align: right;\">\n      <th></th>\n      <th>Hotel_Name</th>\n      <th>lat</th>\n      <th>lng</th>\n      <th>Average_Score</th>\n      <th>Total_Number_of_Reviews</th>\n      <th>Positive_Review</th>\n      <th>Negative_Review</th>\n      <th>District</th>\n    </tr>\n  </thead>\n  <tbody>\n    <tr>\n      <th>0</th>\n      <td>25hours Hotel beim MuseumsQuartier</td>\n      <td>48.206474</td>\n      <td>16.354630</td>\n      <td>8.8</td>\n      <td>4324</td>\n      <td>Cool vintage style middle museum quarter metro...</td>\n      <td>Breakfast included buffet really expensive Bre...</td>\n      <td>7</td>\n    </tr>\n    <tr>\n      <th>1</th>\n      <td>ARCOTEL Kaiserwasser Superior</td>\n      <td>48.231915</td>\n      <td>16.417026</td>\n      <td>8.6</td>\n      <td>1257</td>\n      <td>Positive Great location VIC meetings Amazing v...</td>\n      <td>booked suites room double room asked connected...</td>\n      <td>22</td>\n    </tr>\n    <tr>\n      <th>2</th>\n      <td>ARCOTEL Wimberger</td>\n      <td>48.200600</td>\n      <td>16.338633</td>\n      <td>8.2</td>\n      <td>1886</td>\n      <td>Close public transportation gentleman front de...</td>\n      <td>Negative Stuff canteen prepared tourist crowd ...</td>\n      <td>7</td>\n    </tr>\n    <tr>\n      <th>3</th>\n      <td>AZIMUT Hotel Vienna</td>\n      <td>48.183479</td>\n      <td>16.376276</td>\n      <td>8.2</td>\n      <td>1060</td>\n      <td>comfortable room clean quiet friendly polite s...</td>\n      <td>Everything excellent Definitely security staye...</td>\n      <td>10</td>\n    </tr>\n    <tr>\n      <th>4</th>\n      <td>Alma Boutique Hotel</td>\n      <td>48.211249</td>\n      <td>16.377652</td>\n      <td>8.7</td>\n      <td>730</td>\n      <td>could check couple hours earlier exhausting fl...</td>\n      <td>Negative Bread croissants old Coffee mediocre ...</td>\n      <td>1</td>\n    </tr>\n  </tbody>\n</table>\n</div>"
     },
     "execution_count": 170,
     "metadata": {},
     "output_type": "execute_result"
    }
   ],
   "source": [
    "grouped_df.head(5)"
   ],
   "metadata": {
    "collapsed": false,
    "ExecuteTime": {
     "end_time": "2024-06-05T16:40:29.177973Z",
     "start_time": "2024-06-05T16:40:29.169640Z"
    }
   },
   "id": "f37866006f95235",
   "execution_count": 170
  },
  {
   "cell_type": "markdown",
   "source": [
    "# Save data"
   ],
   "metadata": {
    "collapsed": false
   },
   "id": "b95fce3166421770"
  },
  {
   "cell_type": "code",
   "outputs": [],
   "source": [
    "grouped_df.to_csv('./data/data_prepared.csv', index=False)"
   ],
   "metadata": {
    "collapsed": false,
    "ExecuteTime": {
     "end_time": "2024-06-05T16:40:29.266560Z",
     "start_time": "2024-06-05T16:40:29.179110Z"
    }
   },
   "id": "ec86d87c4ff21442",
   "execution_count": 171
  }
 ],
 "metadata": {
  "kernelspec": {
   "display_name": "Python 3",
   "language": "python",
   "name": "python3"
  },
  "language_info": {
   "codemirror_mode": {
    "name": "ipython",
    "version": 2
   },
   "file_extension": ".py",
   "mimetype": "text/x-python",
   "name": "python",
   "nbconvert_exporter": "python",
   "pygments_lexer": "ipython2",
   "version": "2.7.6"
  }
 },
 "nbformat": 4,
 "nbformat_minor": 5
}
